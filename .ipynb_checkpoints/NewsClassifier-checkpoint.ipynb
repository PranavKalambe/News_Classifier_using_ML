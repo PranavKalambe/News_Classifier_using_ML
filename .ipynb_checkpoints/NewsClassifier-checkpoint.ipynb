{
 "cells": [
  {
   "cell_type": "markdown",
   "metadata": {},
   "source": [
    "### Name: Pranav Sanjay Kalambe\n",
    "### Branch/Year: EXTC-Second Year\n",
    "### Roll no.: 1913023\n",
    "### Email: pranav.kalambe@somaiya.edu"
   ]
  },
  {
   "cell_type": "markdown",
   "metadata": {},
   "source": [
    "# Aim: ***Classify the given text into different Categories such as Computer, Politics, Relegion, Science, Sports using multinomial navie bayes and tfidf***"
   ]
  },
  {
   "cell_type": "code",
   "execution_count": 1,
   "metadata": {},
   "outputs": [],
   "source": [
    "import time\n",
    "import sklearn.datasets as skd\n",
    "import pandas as pd\n",
    "import numpy as np\n",
    "import matplotlib.pyplot as plt"
   ]
  },
  {
   "cell_type": "code",
   "execution_count": 2,
   "metadata": {},
   "outputs": [],
   "source": [
    "start_time = time.time()"
   ]
  },
  {
   "cell_type": "code",
   "execution_count": 3,
   "metadata": {},
   "outputs": [],
   "source": [
    "categories = ['computer','politics','religion','science','sports']\n",
    "fileaddressoftrain = '20news-bydate-train'\n",
    "fileaddressoftest = '20news-bydate-test'\n",
    "encoder = 'ISO-8859-1'"
   ]
  },
  {
   "cell_type": "code",
   "execution_count": 4,
   "metadata": {},
   "outputs": [],
   "source": [
    "news_test = skd.load_files(fileaddressoftest,encoding = encoder , categories = categories)\n",
    "news_train = skd.load_files(fileaddressoftrain,encoding = encoder , categories = categories)"
   ]
  },
  {
   "cell_type": "markdown",
   "metadata": {},
   "source": [
    "### *Let's have a look at our training data elements*"
   ]
  },
  {
   "cell_type": "code",
   "execution_count": 5,
   "metadata": {},
   "outputs": [
    {
     "data": {
      "text/plain": [
       "dict_keys(['data', 'filenames', 'target_names', 'target', 'DESCR'])"
      ]
     },
     "execution_count": 5,
     "metadata": {},
     "output_type": "execute_result"
    }
   ],
   "source": [
    "news_train.keys() "
   ]
  },
  {
   "cell_type": "code",
   "execution_count": 6,
   "metadata": {},
   "outputs": [
    {
     "data": {
      "text/plain": [
       "['computer', 'politics', 'religion', 'science', 'sports']"
      ]
     },
     "execution_count": 6,
     "metadata": {},
     "output_type": "execute_result"
    }
   ],
   "source": [
    "news_train.target_names # Names of target file"
   ]
  },
  {
   "cell_type": "code",
   "execution_count": 7,
   "metadata": {},
   "outputs": [
    {
     "data": {
      "text/plain": [
       "9537"
      ]
     },
     "execution_count": 7,
     "metadata": {},
     "output_type": "execute_result"
    }
   ],
   "source": [
    "len(news_train.filenames) # These are the total no. of text document in dataset "
   ]
  },
  {
   "cell_type": "markdown",
   "metadata": {},
   "source": [
    "## *Plotting number of input data*"
   ]
  },
  {
   "cell_type": "code",
   "execution_count": 8,
   "metadata": {},
   "outputs": [],
   "source": [
    "news_train.target # So here target names are labeled with numbers as target\n",
    "computer = np.sum(news_train.target == 0)\n",
    "politics = np.sum(news_train.target == 1)\n",
    "religion = np.sum(news_train.target == 2)\n",
    "science = np.sum(news_train.target == 3)\n",
    "sports = np.sum(news_train.target == 4)"
   ]
  },
  {
   "cell_type": "code",
   "execution_count": 9,
   "metadata": {},
   "outputs": [
    {
     "data": {
      "text/html": [
       "<div>\n",
       "<style scoped>\n",
       "    .dataframe tbody tr th:only-of-type {\n",
       "        vertical-align: middle;\n",
       "    }\n",
       "\n",
       "    .dataframe tbody tr th {\n",
       "        vertical-align: top;\n",
       "    }\n",
       "\n",
       "    .dataframe thead th {\n",
       "        text-align: right;\n",
       "    }\n",
       "</style>\n",
       "<table border=\"1\" class=\"dataframe\">\n",
       "  <thead>\n",
       "    <tr style=\"text-align: right;\">\n",
       "      <th></th>\n",
       "      <th>computer</th>\n",
       "      <th>politics</th>\n",
       "      <th>religion</th>\n",
       "      <th>science</th>\n",
       "      <th>sports</th>\n",
       "    </tr>\n",
       "  </thead>\n",
       "  <tbody>\n",
       "    <tr>\n",
       "      <th>Samples</th>\n",
       "      <td>2936</td>\n",
       "      <td>1575</td>\n",
       "      <td>1456</td>\n",
       "      <td>2373</td>\n",
       "      <td>1197</td>\n",
       "    </tr>\n",
       "  </tbody>\n",
       "</table>\n",
       "</div>"
      ],
      "text/plain": [
       "         computer  politics  religion  science  sports\n",
       "Samples      2936      1575      1456     2373    1197"
      ]
     },
     "execution_count": 9,
     "metadata": {},
     "output_type": "execute_result"
    }
   ],
   "source": [
    "train_data_list = [computer,politics,religion,science,sports]\n",
    "train_df = pd.DataFrame(train_data_list,categories)\n",
    "train_df = train_df.transpose()\n",
    "train_df.index = [\"Samples\"]\n",
    "train_df"
   ]
  },
  {
   "cell_type": "code",
   "execution_count": 10,
   "metadata": {},
   "outputs": [
    {
     "data": {
      "text/plain": [
       "Text(0.5, 1.0, 'Category Vs Training Data')"
      ]
     },
     "execution_count": 10,
     "metadata": {},
     "output_type": "execute_result"
    },
    {
     "data": {
      "image/png": "[encoded data removed]",
      "text/plain": [
       "<Figure size 432x288 with 1 Axes>"
      ]
     },
     "metadata": {
      "needs_background": "light"
     },
     "output_type": "display_data"
    }
   ],
   "source": [
    "plt.bar(news_train.target_names,train_data_list)\n",
    "plt.xlabel('Category',fontsize = 20)\n",
    "plt.ylabel('Training Data',fontsize = 20)\n",
    "plt.title('Category Vs Training Data', fontsize = 20)\n"
   ]
  },
  {
   "cell_type": "markdown",
   "metadata": {},
   "source": [
    "## *Convert the using CountVectorizer* \n",
    "*It basically counts the unique words and then gives the frequency of those words*"
   ]
  },
  {
   "cell_type": "code",
   "execution_count": 11,
   "metadata": {},
   "outputs": [],
   "source": [
    "from sklearn.feature_extraction.text import CountVectorizer\n",
    "count = CountVectorizer()\n",
    "count.fit(news_train.data)\n",
    "x_train_transform = count.transform(news_train.data)"
   ]
  },
  {
   "cell_type": "code",
   "execution_count": 12,
   "metadata": {},
   "outputs": [
    {
     "data": {
      "text/plain": [
       "scipy.sparse.csr.csr_matrix"
      ]
     },
     "execution_count": 12,
     "metadata": {},
     "output_type": "execute_result"
    }
   ],
   "source": [
    "x_train_tf = count.fit_transform(news_train.data)\n",
    "type(x_train_tf)"
   ]
  },
  {
   "cell_type": "code",
   "execution_count": 13,
   "metadata": {},
   "outputs": [
    {
     "data": {
      "text/plain": [
       "(9537, 121620)"
      ]
     },
     "execution_count": 13,
     "metadata": {},
     "output_type": "execute_result"
    }
   ],
   "source": [
    "x_train_tf.shape"
   ]
  },
  {
   "cell_type": "raw",
   "metadata": {},
   "source": [
    "So here 9537 samples and 121360 unique words that is features"
   ]
  },
  {
   "cell_type": "markdown",
   "metadata": {},
   "source": [
    "### *Term Frequency: This summarizes how often a given word appears within a document.*\n",
    "### *Inverse Document Frequency: This downscales words that appear a lot across documents.*"
   ]
  },
  {
   "cell_type": "markdown",
   "metadata": {},
   "source": [
    "*Here every word is givem weight depending on their importance in the document*"
   ]
  },
  {
   "cell_type": "code",
   "execution_count": 14,
   "metadata": {},
   "outputs": [],
   "source": [
    "from sklearn.feature_extraction.text import TfidfTransformer\n",
    "tfidf = TfidfTransformer()\n",
    "tfidf.fit(x_train_tf)\n",
    "x_train_tfidf = tfidf.transform(x_train_tf)"
   ]
  },
  {
   "cell_type": "code",
   "execution_count": 15,
   "metadata": {},
   "outputs": [
    {
     "name": "stdout",
     "output_type": "stream",
     "text": [
      "  (0, 119972)\t0.05104820354101887\n",
      "  (0, 119949)\t0.05644088513070946\n",
      "  (0, 118319)\t0.057913296489725506\n",
      "  (0, 117329)\t0.03875018096562748\n",
      "  (0, 116957)\t0.03252891101264183\n",
      "  (0, 116951)\t0.027003025574690278\n",
      "  (0, 116763)\t0.04798865098323608\n",
      "  (0, 116756)\t0.017963115481053022\n",
      "  (0, 116724)\t0.019553717811371784\n",
      "  (0, 116368)\t0.021101711280599237\n",
      "  (0, 116346)\t0.04122887793639142\n",
      "  (0, 116179)\t0.09429876073228571\n",
      "  (0, 116178)\t0.062487023922651826\n",
      "  (0, 116176)\t0.062487023922651826\n",
      "  (0, 116170)\t0.11470631573275727\n",
      "  (0, 116169)\t0.057913296489725506\n",
      "  (0, 116084)\t0.013601880273786048\n",
      "  (0, 116003)\t0.0413805989136269\n",
      "  (0, 115919)\t0.02563196612597486\n",
      "  (0, 115832)\t0.02065602316762973\n",
      "  (0, 115826)\t0.014845845243365468\n",
      "  (0, 115789)\t0.09526377750851737\n",
      "  (0, 115575)\t0.062487023922651826\n",
      "  (0, 115132)\t0.012335815588370078\n",
      "  (0, 114291)\t0.04876584162387283\n",
      "  :\t:\n",
      "  (9536, 61067)\t0.05848559812674219\n",
      "  (9536, 59632)\t0.029454685272633743\n",
      "  (9536, 58269)\t0.22987882529179968\n",
      "  (9536, 57800)\t0.03942429855823775\n",
      "  (9536, 56225)\t0.04561879712275488\n",
      "  (9536, 53278)\t0.057229437351977934\n",
      "  (9536, 52934)\t0.013095904698205808\n",
      "  (9536, 51483)\t0.07990365816883659\n",
      "  (9536, 49503)\t0.09599069953934083\n",
      "  (9536, 49367)\t0.07304989433774324\n",
      "  (9536, 48527)\t0.19900771828349104\n",
      "  (9536, 47529)\t0.04954071477667163\n",
      "  (9536, 46816)\t0.03703782371562454\n",
      "  (9536, 45070)\t0.0564543055330558\n",
      "  (9536, 44782)\t0.025568065438070567\n",
      "  (9536, 42997)\t0.22987882529179968\n",
      "  (9536, 42496)\t0.06730193096661063\n",
      "  (9536, 41565)\t0.13810129071728014\n",
      "  (9536, 39199)\t0.05050781132426433\n",
      "  (9536, 37984)\t0.04927504673502748\n",
      "  (9536, 34714)\t0.04598977938155798\n",
      "  (9536, 34179)\t0.12401680206434292\n",
      "  (9536, 27359)\t0.022980278616298717\n",
      "  (9536, 24572)\t0.03774687487553313\n",
      "  (9536, 7487)\t0.04363771350043012\n"
     ]
    }
   ],
   "source": [
    "print(x_train_tfidf) # These are values of Tfidf"
   ]
  },
  {
   "cell_type": "markdown",
   "metadata": {},
   "source": [
    "### *Training model using navie bayes multinomialNB*"
   ]
  },
  {
   "cell_type": "code",
   "execution_count": 16,
   "metadata": {},
   "outputs": [],
   "source": [
    "from sklearn.naive_bayes import MultinomialNB\n",
    "classify = MultinomialNB() # object created for classification\n",
    "model = classify.fit(x_train_tfidf,news_train.target) # making model by matching tfidf data to target "
   ]
  },
  {
   "cell_type": "raw",
   "metadata": {},
   "source": [
    "Thats all model has been created, now let's check it how it works"
   ]
  },
  {
   "cell_type": "markdown",
   "metadata": {},
   "source": [
    "### *Checking model on a custom input*"
   ]
  },
  {
   "cell_type": "code",
   "execution_count": 17,
   "metadata": {},
   "outputs": [
    {
     "name": "stdout",
     "output_type": "stream",
     "text": [
      "['computer', 'politics', 'religion', 'science', 'sports']\n",
      "{0: 'computer', 1: 'politics', 2: 'religion', 3: 'science', 4: 'sports'}\n"
     ]
    }
   ],
   "source": [
    "# Have a look at our target names with their index no. in list\n",
    "print(news_train.target_names)\n",
    "tempdict = dict(enumerate(news_train.target_names))\n",
    "print(dict(enumerate(news_train.target_names)))"
   ]
  },
  {
   "cell_type": "code",
   "execution_count": 18,
   "metadata": {},
   "outputs": [
    {
     "name": "stdout",
     "output_type": "stream",
     "text": [
      "Enter custom input: h\n",
      "\n",
      "The given news is under computer category\n"
     ]
    }
   ],
   "source": [
    "# This is for trying with custom input\n",
    "# Since your model is trained now no need to fit \n",
    "# only transforming through vectorizers and then predicting\n",
    "pk = input(\"Enter custom input: \")\n",
    "#custom_input = [pk,'God is Great','GPU makes computer run fast','science is good','minister at my home','hockey']\n",
    "custom_input = [pk]\n",
    "x_count = count.transform(custom_input) # count is countvectorizer\n",
    "x_tfidf = tfidf.transform(x_count) # tfidf is tfidfvectorizer\n",
    "x_predict = classify.predict(x_tfidf) # classify is naive bayes multinominalnb object whuch is trained by your model\n",
    "print(f\"\\nThe given news is under {tempdict[int(x_predict)]} category\")"
   ]
  },
  {
   "cell_type": "markdown",
   "metadata": {},
   "source": [
    "### *Let's work it on test data and find accuracy*"
   ]
  },
  {
   "cell_type": "code",
   "execution_count": 19,
   "metadata": {},
   "outputs": [],
   "source": [
    "news_test_count = count.transform(news_test.data)\n",
    "news_test_tfidf = tfidf.transform(news_test_count)\n",
    "news_test_predict = classify.predict(news_test_tfidf)"
   ]
  },
  {
   "cell_type": "code",
   "execution_count": 20,
   "metadata": {},
   "outputs": [
    {
     "name": "stdout",
     "output_type": "stream",
     "text": [
      "Accuracy of my model is 0.8382167611846251\n",
      "Accuracy in percentage is 83.82 %\n"
     ]
    }
   ],
   "source": [
    "from sklearn import metrics\n",
    "from sklearn.metrics import accuracy_score\n",
    "accuracy = accuracy_score(news_test.target,news_test_predict)\n",
    "print('Accuracy of my model is',accuracy)\n",
    "print('Accuracy in percentage is',round(100*accuracy,2),'%')"
   ]
  },
  {
   "cell_type": "code",
   "execution_count": 21,
   "metadata": {},
   "outputs": [
    {
     "name": "stdout",
     "output_type": "stream",
     "text": [
      "              precision    recall  f1-score   support\n",
      "\n",
      "    computer       0.80      0.98      0.88      1955\n",
      "    politics       0.95      0.82      0.89      1050\n",
      "    religion       0.98      0.81      0.89       968\n",
      "     science       0.72      0.84      0.78      1579\n",
      "      sports       1.00      0.54      0.70       796\n",
      "\n",
      "    accuracy                           0.84      6348\n",
      "   macro avg       0.89      0.80      0.83      6348\n",
      "weighted avg       0.86      0.84      0.84      6348\n",
      "\n"
     ]
    }
   ],
   "source": [
    "report = metrics.classification_report(news_test.target, news_test_predict, target_names=news_test.target_names)\n",
    "confusion_matrix = metrics.confusion_matrix(news_test.target,news_test_predict)\n",
    "print(report)"
   ]
  },
  {
   "cell_type": "markdown",
   "metadata": {},
   "source": [
    "### *Making a dataframe of confusion matrix*"
   ]
  },
  {
   "cell_type": "code",
   "execution_count": 22,
   "metadata": {},
   "outputs": [],
   "source": [
    "import pandas as pd\n",
    "df = pd.DataFrame(confusion_matrix)"
   ]
  },
  {
   "cell_type": "code",
   "execution_count": 23,
   "metadata": {},
   "outputs": [
    {
     "data": {
      "text/html": [
       "<div>\n",
       "<style scoped>\n",
       "    .dataframe tbody tr th:only-of-type {\n",
       "        vertical-align: middle;\n",
       "    }\n",
       "\n",
       "    .dataframe tbody tr th {\n",
       "        vertical-align: top;\n",
       "    }\n",
       "\n",
       "    .dataframe thead th {\n",
       "        text-align: right;\n",
       "    }\n",
       "</style>\n",
       "<table border=\"1\" class=\"dataframe\">\n",
       "  <thead>\n",
       "    <tr style=\"text-align: right;\">\n",
       "      <th></th>\n",
       "      <th>computer</th>\n",
       "      <th>politics</th>\n",
       "      <th>religion</th>\n",
       "      <th>science</th>\n",
       "      <th>sports</th>\n",
       "    </tr>\n",
       "  </thead>\n",
       "  <tbody>\n",
       "    <tr>\n",
       "      <th>computer</th>\n",
       "      <td>1909</td>\n",
       "      <td>0</td>\n",
       "      <td>0</td>\n",
       "      <td>46</td>\n",
       "      <td>0</td>\n",
       "    </tr>\n",
       "    <tr>\n",
       "      <th>politics</th>\n",
       "      <td>41</td>\n",
       "      <td>866</td>\n",
       "      <td>12</td>\n",
       "      <td>131</td>\n",
       "      <td>0</td>\n",
       "    </tr>\n",
       "    <tr>\n",
       "      <th>religion</th>\n",
       "      <td>49</td>\n",
       "      <td>31</td>\n",
       "      <td>786</td>\n",
       "      <td>102</td>\n",
       "      <td>0</td>\n",
       "    </tr>\n",
       "    <tr>\n",
       "      <th>science</th>\n",
       "      <td>247</td>\n",
       "      <td>4</td>\n",
       "      <td>1</td>\n",
       "      <td>1327</td>\n",
       "      <td>0</td>\n",
       "    </tr>\n",
       "    <tr>\n",
       "      <th>sports</th>\n",
       "      <td>127</td>\n",
       "      <td>6</td>\n",
       "      <td>0</td>\n",
       "      <td>230</td>\n",
       "      <td>433</td>\n",
       "    </tr>\n",
       "  </tbody>\n",
       "</table>\n",
       "</div>"
      ],
      "text/plain": [
       "          computer  politics  religion  science  sports\n",
       "computer      1909         0         0       46       0\n",
       "politics        41       866        12      131       0\n",
       "religion        49        31       786      102       0\n",
       "science        247         4         1     1327       0\n",
       "sports         127         6         0      230     433"
      ]
     },
     "execution_count": 23,
     "metadata": {},
     "output_type": "execute_result"
    }
   ],
   "source": [
    "df.index = news_test.target_names\n",
    "df.columns = news_test.target_names\n",
    "df"
   ]
  },
  {
   "cell_type": "code",
   "execution_count": 24,
   "metadata": {},
   "outputs": [
    {
     "data": {
      "text/plain": [
       "Text(33.0, 0.5, 'Actual Values')"
      ]
     },
     "execution_count": 24,
     "metadata": {},
     "output_type": "execute_result"
    },
    {
     "data": {
      "image/png": "[encoded data removed]",
      "text/plain": [
       "<Figure size 432x288 with 2 Axes>"
      ]
     },
     "metadata": {
      "needs_background": "light"
     },
     "output_type": "display_data"
    }
   ],
   "source": [
    "import seaborn as sb\n",
    "sb.heatmap(df,annot=True, cmap=\"YlGnBu\")\n",
    "plt.xlabel(\"Predicted Values\",)\n",
    "plt.ylabel(\"Actual Values\")"
   ]
  },
  {
   "cell_type": "markdown",
   "metadata": {},
   "source": [
    "### Time Required"
   ]
  },
  {
   "cell_type": "code",
   "execution_count": 25,
   "metadata": {},
   "outputs": [
    {
     "name": "stdout",
     "output_type": "stream",
     "text": [
      "--- 31.285295009613037 seconds ---\n"
     ]
    }
   ],
   "source": [
    "print(\"--- %s seconds ---\" % (time.time() - start_time))"
   ]
  },
  {
   "cell_type": "code",
   "execution_count": null,
   "metadata": {},
   "outputs": [],
   "source": []
  }
 ],
 "metadata": {
  "kernelspec": {
   "display_name": "Python 3",
   "language": "python",
   "name": "python3"
  },
  "language_info": {
   "codemirror_mode": {
    "name": "ipython",
    "version": 3
   },
   "file_extension": ".py",
   "mimetype": "text/x-python",
   "name": "python",
   "nbconvert_exporter": "python",
   "pygments_lexer": "ipython3",
   "version": "3.8.3"
  }
 },
 "nbformat": 4,
 "nbformat_minor": 4
}
